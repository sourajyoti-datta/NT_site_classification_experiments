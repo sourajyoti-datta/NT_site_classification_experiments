{
 "cells": [
  {
   "cell_type": "code",
   "execution_count": 1,
   "metadata": {},
   "outputs": [],
   "source": [
    "##################################################################################\n",
    "##### Define all parameters for model tuning\n",
    "##################################################################################\n",
    "\n",
    "n_fold = 5\n",
    "expName = \"PredNitro_Embedding_PredNTS\"\n",
    "outPath = \"Results\"\n",
    "foldName = \"folds.pickle\"\n",
    "\n",
    "epochs = 100\n",
    "batch_size = 64\n",
    "shuffle = True\n",
    "seed = None\n",
    "\n",
    "input_data_folder = \"Data\"\n",
    "training_data_file = \"Training-datasets-PredNTS.txt\"\n",
    "independent_data_file = \"independent dataset-PredNTS.txt\""
   ]
  },
  {
   "cell_type": "code",
   "execution_count": 2,
   "metadata": {},
   "outputs": [],
   "source": [
    "import os \n",
    "import pickle\n",
    "import numpy as np\n",
    "import pandas as pd\n",
    "\n",
    "import math\n",
    "\n",
    "import itertools"
   ]
  },
  {
   "cell_type": "markdown",
   "metadata": {},
   "source": [
    "# Read PredNTS Training data"
   ]
  },
  {
   "cell_type": "code",
   "execution_count": 3,
   "metadata": {},
   "outputs": [],
   "source": [
    "##################################################################################\n",
    "##### read training file\n",
    "##################################################################################\n",
    "train_file_path = os.path.join(input_data_folder, training_data_file)\n",
    "train_data = pd.read_csv(train_file_path, sep='\\t', header=None)\n",
    "train_data.columns = ['Sequence', 'name', 'id', 'flag', 'label_original', 'type']"
   ]
  },
  {
   "cell_type": "markdown",
   "metadata": {},
   "source": [
    "# Create PredNitro probability embedding"
   ]
  },
  {
   "cell_type": "code",
   "execution_count": 4,
   "metadata": {},
   "outputs": [
    {
     "data": {
      "text/html": [
       "<div>\n",
       "<style scoped>\n",
       "    .dataframe tbody tr th:only-of-type {\n",
       "        vertical-align: middle;\n",
       "    }\n",
       "\n",
       "    .dataframe tbody tr th {\n",
       "        vertical-align: top;\n",
       "    }\n",
       "\n",
       "    .dataframe thead th {\n",
       "        text-align: right;\n",
       "    }\n",
       "</style>\n",
       "<table border=\"1\" class=\"dataframe\">\n",
       "  <thead>\n",
       "    <tr style=\"text-align: right;\">\n",
       "      <th></th>\n",
       "      <th>Sequence</th>\n",
       "      <th>name</th>\n",
       "      <th>id</th>\n",
       "      <th>flag</th>\n",
       "      <th>label_original</th>\n",
       "      <th>type</th>\n",
       "    </tr>\n",
       "  </thead>\n",
       "  <tbody>\n",
       "    <tr>\n",
       "      <th>0</th>\n",
       "      <td>EVPQLCSFILKTSQCTLKEVYGFNPEGKALLKKTKNSEEFA</td>\n",
       "      <td>sp|P04114|</td>\n",
       "      <td>103</td>\n",
       "      <td>Y</td>\n",
       "      <td>1</td>\n",
       "      <td>pssm1</td>\n",
       "    </tr>\n",
       "    <tr>\n",
       "      <th>1</th>\n",
       "      <td>AAMSRYELKLAIPEGKQVFLYPEKDEPTYILNIKRGIISAL</td>\n",
       "      <td>sp|P04114|</td>\n",
       "      <td>144</td>\n",
       "      <td>Y</td>\n",
       "      <td>1</td>\n",
       "      <td>pssm1</td>\n",
       "    </tr>\n",
       "    <tr>\n",
       "      <th>2</th>\n",
       "      <td>VAEAICKEQHLFLPFSYKNKYGMVAQVTQTLKLEDTPKINS</td>\n",
       "      <td>sp|P04114|</td>\n",
       "      <td>276</td>\n",
       "      <td>Y</td>\n",
       "      <td>1</td>\n",
       "      <td>pssm1</td>\n",
       "    </tr>\n",
       "    <tr>\n",
       "      <th>3</th>\n",
       "      <td>HILQWLKRVHANPLLIDVVTYLVALIPEPSAQQLREIFNMA</td>\n",
       "      <td>sp|P04114|</td>\n",
       "      <td>413</td>\n",
       "      <td>Y</td>\n",
       "      <td>1</td>\n",
       "      <td>pssm1</td>\n",
       "    </tr>\n",
       "    <tr>\n",
       "      <th>4</th>\n",
       "      <td>PSLDPASAKIEGNLIFDPNNYLPKESMLKTTLTAFGFASAD</td>\n",
       "      <td>sp|P04114|</td>\n",
       "      <td>666</td>\n",
       "      <td>Y</td>\n",
       "      <td>1</td>\n",
       "      <td>pssm1</td>\n",
       "    </tr>\n",
       "  </tbody>\n",
       "</table>\n",
       "</div>"
      ],
      "text/plain": [
       "                                    Sequence        name   id flag  \\\n",
       "0  EVPQLCSFILKTSQCTLKEVYGFNPEGKALLKKTKNSEEFA  sp|P04114|  103    Y   \n",
       "1  AAMSRYELKLAIPEGKQVFLYPEKDEPTYILNIKRGIISAL  sp|P04114|  144    Y   \n",
       "2  VAEAICKEQHLFLPFSYKNKYGMVAQVTQTLKLEDTPKINS  sp|P04114|  276    Y   \n",
       "3  HILQWLKRVHANPLLIDVVTYLVALIPEPSAQQLREIFNMA  sp|P04114|  413    Y   \n",
       "4  PSLDPASAKIEGNLIFDPNNYLPKESMLKTTLTAFGFASAD  sp|P04114|  666    Y   \n",
       "\n",
       "   label_original   type  \n",
       "0               1  pssm1  \n",
       "1               1  pssm1  \n",
       "2               1  pssm1  \n",
       "3               1  pssm1  \n",
       "4               1  pssm1  "
      ]
     },
     "execution_count": 4,
     "metadata": {},
     "output_type": "execute_result"
    }
   ],
   "source": [
    "train_data.head(5)"
   ]
  },
  {
   "cell_type": "code",
   "execution_count": 9,
   "metadata": {},
   "outputs": [],
   "source": [
    "all_char_set = set({})\n",
    "for val in [set(val) for val in train_data['Sequence']]:\n",
    "    all_char_set = all_char_set.union(val)\n",
    "all_char_list = list(all_char_set)\n",
    "all_char_list.sort()\n",
    "\n",
    "pos_mid = 20\n",
    "position_indexes_A_left = list(range(0,pos_mid))\n",
    "position_indexes_B_left = [val+1 for val in position_indexes_A_left]\n",
    "\n",
    "all_left_lists = [\n",
    "   all_char_list,\n",
    "   all_char_list,\n",
    "   list(zip(position_indexes_A_left, position_indexes_B_left))\n",
    "]\n",
    "all_left_combinations = list(itertools.product(*all_left_lists))\n",
    "\n",
    "df_left = pd.DataFrame(all_left_combinations, columns=['A', 'B', 'pos'])\n",
    "\n",
    "position_indexes_A_right = list(range(pos_mid+1,(pos_mid*2)+1))\n",
    "position_indexes_B_right = [val-1 for val in position_indexes_A_right]\n",
    "\n",
    "all_right_lists = [\n",
    "   all_char_list,\n",
    "   all_char_list,\n",
    "   list(zip(position_indexes_A_right, position_indexes_B_right))\n",
    "]\n",
    "all_right_combinations = list(itertools.product(*all_right_lists))\n",
    "\n",
    "df_right = pd.DataFrame(all_right_combinations, columns=['A', 'B', 'pos'])\n",
    "\n",
    "df_position_specific_conditional_probabilities = pd.concat((df_left, df_right), ignore_index=True)\n",
    "\n",
    "df_position_specific_conditional_probabilities['prob'] = 0.0"
   ]
  },
  {
   "cell_type": "code",
   "execution_count": 10,
   "metadata": {},
   "outputs": [
    {
     "data": {
      "text/html": [
       "<div>\n",
       "<style scoped>\n",
       "    .dataframe tbody tr th:only-of-type {\n",
       "        vertical-align: middle;\n",
       "    }\n",
       "\n",
       "    .dataframe tbody tr th {\n",
       "        vertical-align: top;\n",
       "    }\n",
       "\n",
       "    .dataframe thead th {\n",
       "        text-align: right;\n",
       "    }\n",
       "</style>\n",
       "<table border=\"1\" class=\"dataframe\">\n",
       "  <thead>\n",
       "    <tr style=\"text-align: right;\">\n",
       "      <th></th>\n",
       "      <th>A</th>\n",
       "      <th>B</th>\n",
       "      <th>pos</th>\n",
       "      <th>prob</th>\n",
       "    </tr>\n",
       "  </thead>\n",
       "  <tbody>\n",
       "    <tr>\n",
       "      <th>0</th>\n",
       "      <td>-</td>\n",
       "      <td>-</td>\n",
       "      <td>(0, 1)</td>\n",
       "      <td>0.0</td>\n",
       "    </tr>\n",
       "    <tr>\n",
       "      <th>1</th>\n",
       "      <td>-</td>\n",
       "      <td>-</td>\n",
       "      <td>(1, 2)</td>\n",
       "      <td>0.0</td>\n",
       "    </tr>\n",
       "    <tr>\n",
       "      <th>2</th>\n",
       "      <td>-</td>\n",
       "      <td>-</td>\n",
       "      <td>(2, 3)</td>\n",
       "      <td>0.0</td>\n",
       "    </tr>\n",
       "    <tr>\n",
       "      <th>3</th>\n",
       "      <td>-</td>\n",
       "      <td>-</td>\n",
       "      <td>(3, 4)</td>\n",
       "      <td>0.0</td>\n",
       "    </tr>\n",
       "    <tr>\n",
       "      <th>4</th>\n",
       "      <td>-</td>\n",
       "      <td>-</td>\n",
       "      <td>(4, 5)</td>\n",
       "      <td>0.0</td>\n",
       "    </tr>\n",
       "    <tr>\n",
       "      <th>...</th>\n",
       "      <td>...</td>\n",
       "      <td>...</td>\n",
       "      <td>...</td>\n",
       "      <td>...</td>\n",
       "    </tr>\n",
       "    <tr>\n",
       "      <th>17635</th>\n",
       "      <td>Y</td>\n",
       "      <td>Y</td>\n",
       "      <td>(36, 35)</td>\n",
       "      <td>0.0</td>\n",
       "    </tr>\n",
       "    <tr>\n",
       "      <th>17636</th>\n",
       "      <td>Y</td>\n",
       "      <td>Y</td>\n",
       "      <td>(37, 36)</td>\n",
       "      <td>0.0</td>\n",
       "    </tr>\n",
       "    <tr>\n",
       "      <th>17637</th>\n",
       "      <td>Y</td>\n",
       "      <td>Y</td>\n",
       "      <td>(38, 37)</td>\n",
       "      <td>0.0</td>\n",
       "    </tr>\n",
       "    <tr>\n",
       "      <th>17638</th>\n",
       "      <td>Y</td>\n",
       "      <td>Y</td>\n",
       "      <td>(39, 38)</td>\n",
       "      <td>0.0</td>\n",
       "    </tr>\n",
       "    <tr>\n",
       "      <th>17639</th>\n",
       "      <td>Y</td>\n",
       "      <td>Y</td>\n",
       "      <td>(40, 39)</td>\n",
       "      <td>0.0</td>\n",
       "    </tr>\n",
       "  </tbody>\n",
       "</table>\n",
       "<p>17640 rows × 4 columns</p>\n",
       "</div>"
      ],
      "text/plain": [
       "       A  B       pos  prob\n",
       "0      -  -    (0, 1)   0.0\n",
       "1      -  -    (1, 2)   0.0\n",
       "2      -  -    (2, 3)   0.0\n",
       "3      -  -    (3, 4)   0.0\n",
       "4      -  -    (4, 5)   0.0\n",
       "...   .. ..       ...   ...\n",
       "17635  Y  Y  (36, 35)   0.0\n",
       "17636  Y  Y  (37, 36)   0.0\n",
       "17637  Y  Y  (38, 37)   0.0\n",
       "17638  Y  Y  (39, 38)   0.0\n",
       "17639  Y  Y  (40, 39)   0.0\n",
       "\n",
       "[17640 rows x 4 columns]"
      ]
     },
     "execution_count": 10,
     "metadata": {},
     "output_type": "execute_result"
    }
   ],
   "source": [
    "df_position_specific_conditional_probabilities"
   ]
  },
  {
   "cell_type": "code",
   "execution_count": 30,
   "metadata": {},
   "outputs": [],
   "source": [
    "positive_train_data = np.array([list(val) for val in list(train_data['Sequence'][train_data['label_original'] == 1])])\n",
    "negative_train_data = np.array([list(val) for val in list(train_data['Sequence'][train_data['label_original'] != 1])])\n",
    "\n",
    "for i in range(df_position_specific_conditional_probabilities.shape[0]):\n",
    "    charA = df_position_specific_conditional_probabilities['A'][i]\n",
    "    charB = df_position_specific_conditional_probabilities['B'][i]\n",
    "    posA, posB = df_position_specific_conditional_probabilities['pos'][i]\n",
    "    \n",
    "    df_filteredB_by_pos = df_position_specific_conditional_probabilities\n",
    "    \n",
    "    ## Generating the probability scores from positive data\n",
    "    \n",
    "    positive_prob = 0\n",
    "    \n",
    "    positive_d_charA = positive_train_data[:, posA]\n",
    "    positive_d_charB = positive_train_data[:, posB]\n",
    "\n",
    "    charB_indexes_in_posB = np.where(positive_d_charB == charB)[0]\n",
    "    charA_indexes_in_posA_when_charB_in_posB = np.where(positive_d_charA[charB_indexes_in_posB] == charA)[0]\n",
    "\n",
    "    if charB_indexes_in_posB.shape[0] > 0:\n",
    "        positive_prob = charA_indexes_in_posA_when_charB_in_posB.shape[0] / charB_indexes_in_posB.shape[0]\n",
    "    \n",
    "    ## Generating the probability scores from negative data\n",
    "    \n",
    "    negative_prob = 0\n",
    "    \n",
    "    negative_d_charA = negative_train_data[:, posA]\n",
    "    negative_d_charB = negative_train_data[:, posB]\n",
    "\n",
    "    charB_indexes_in_posB = np.where(negative_d_charB == charB)[0]\n",
    "    charA_indexes_in_posA_when_charB_in_posB = np.where(negative_d_charA[charB_indexes_in_posB] == charA)[0]\n",
    "\n",
    "    if charB_indexes_in_posB.shape[0] > 0:\n",
    "        negative_prob = charA_indexes_in_posA_when_charB_in_posB.shape[0] / charB_indexes_in_posB.shape[0]\n",
    "    \n",
    "    ## Appending the final probability difference\n",
    "    \n",
    "    df_position_specific_conditional_probabilities.loc[i, 'prob'] = positive_prob - negative_prob"
   ]
  },
  {
   "cell_type": "code",
   "execution_count": 31,
   "metadata": {},
   "outputs": [
    {
     "data": {
      "text/html": [
       "<div>\n",
       "<style scoped>\n",
       "    .dataframe tbody tr th:only-of-type {\n",
       "        vertical-align: middle;\n",
       "    }\n",
       "\n",
       "    .dataframe tbody tr th {\n",
       "        vertical-align: top;\n",
       "    }\n",
       "\n",
       "    .dataframe thead th {\n",
       "        text-align: right;\n",
       "    }\n",
       "</style>\n",
       "<table border=\"1\" class=\"dataframe\">\n",
       "  <thead>\n",
       "    <tr style=\"text-align: right;\">\n",
       "      <th></th>\n",
       "      <th>A</th>\n",
       "      <th>B</th>\n",
       "      <th>pos</th>\n",
       "      <th>prob</th>\n",
       "    </tr>\n",
       "  </thead>\n",
       "  <tbody>\n",
       "    <tr>\n",
       "      <th>0</th>\n",
       "      <td>-</td>\n",
       "      <td>-</td>\n",
       "      <td>(0, 1)</td>\n",
       "      <td>0.000000</td>\n",
       "    </tr>\n",
       "    <tr>\n",
       "      <th>1</th>\n",
       "      <td>-</td>\n",
       "      <td>-</td>\n",
       "      <td>(1, 2)</td>\n",
       "      <td>0.000000</td>\n",
       "    </tr>\n",
       "    <tr>\n",
       "      <th>2</th>\n",
       "      <td>-</td>\n",
       "      <td>-</td>\n",
       "      <td>(2, 3)</td>\n",
       "      <td>0.000000</td>\n",
       "    </tr>\n",
       "    <tr>\n",
       "      <th>3</th>\n",
       "      <td>-</td>\n",
       "      <td>-</td>\n",
       "      <td>(3, 4)</td>\n",
       "      <td>0.000000</td>\n",
       "    </tr>\n",
       "    <tr>\n",
       "      <th>4</th>\n",
       "      <td>-</td>\n",
       "      <td>-</td>\n",
       "      <td>(4, 5)</td>\n",
       "      <td>0.000000</td>\n",
       "    </tr>\n",
       "    <tr>\n",
       "      <th>...</th>\n",
       "      <td>...</td>\n",
       "      <td>...</td>\n",
       "      <td>...</td>\n",
       "      <td>...</td>\n",
       "    </tr>\n",
       "    <tr>\n",
       "      <th>17635</th>\n",
       "      <td>Y</td>\n",
       "      <td>Y</td>\n",
       "      <td>(36, 35)</td>\n",
       "      <td>-0.039216</td>\n",
       "    </tr>\n",
       "    <tr>\n",
       "      <th>17636</th>\n",
       "      <td>Y</td>\n",
       "      <td>Y</td>\n",
       "      <td>(37, 36)</td>\n",
       "      <td>0.078125</td>\n",
       "    </tr>\n",
       "    <tr>\n",
       "      <th>17637</th>\n",
       "      <td>Y</td>\n",
       "      <td>Y</td>\n",
       "      <td>(38, 37)</td>\n",
       "      <td>-0.020054</td>\n",
       "    </tr>\n",
       "    <tr>\n",
       "      <th>17638</th>\n",
       "      <td>Y</td>\n",
       "      <td>Y</td>\n",
       "      <td>(39, 38)</td>\n",
       "      <td>-0.019444</td>\n",
       "    </tr>\n",
       "    <tr>\n",
       "      <th>17639</th>\n",
       "      <td>Y</td>\n",
       "      <td>Y</td>\n",
       "      <td>(40, 39)</td>\n",
       "      <td>0.013178</td>\n",
       "    </tr>\n",
       "  </tbody>\n",
       "</table>\n",
       "<p>17640 rows × 4 columns</p>\n",
       "</div>"
      ],
      "text/plain": [
       "       A  B       pos      prob\n",
       "0      -  -    (0, 1)  0.000000\n",
       "1      -  -    (1, 2)  0.000000\n",
       "2      -  -    (2, 3)  0.000000\n",
       "3      -  -    (3, 4)  0.000000\n",
       "4      -  -    (4, 5)  0.000000\n",
       "...   .. ..       ...       ...\n",
       "17635  Y  Y  (36, 35) -0.039216\n",
       "17636  Y  Y  (37, 36)  0.078125\n",
       "17637  Y  Y  (38, 37) -0.020054\n",
       "17638  Y  Y  (39, 38) -0.019444\n",
       "17639  Y  Y  (40, 39)  0.013178\n",
       "\n",
       "[17640 rows x 4 columns]"
      ]
     },
     "execution_count": 31,
     "metadata": {},
     "output_type": "execute_result"
    }
   ],
   "source": [
    "df_position_specific_conditional_probabilities"
   ]
  },
  {
   "cell_type": "code",
   "execution_count": 63,
   "metadata": {},
   "outputs": [],
   "source": [
    "pos_mid = 20\n",
    "prob_features = np.empty((0, 40))\n",
    "for seq in train_data[\"Sequence\"]:\n",
    "    seq_prob_features = np.zeros((1, 40))\n",
    "    for i in range(0, len(seq)):\n",
    "        if i < pos_mid:\n",
    "            feature_index = i\n",
    "            posB = i+1\n",
    "        elif i > pos_mid:\n",
    "            feature_index = i-1\n",
    "            posB = i-1\n",
    "        else:\n",
    "            continue\n",
    "        posA = i\n",
    "        \n",
    "        charA = seq[posA]\n",
    "        charB = seq[posB]\n",
    "        \n",
    "        prob = df_position_specific_conditional_probabilities[(df_position_specific_conditional_probabilities['A'] == charA) & \n",
    "                                                              (df_position_specific_conditional_probabilities['B'] == charB) & \n",
    "                                                              (df_position_specific_conditional_probabilities['pos'] == (posA, \n",
    "                                                                                                                         posB))\n",
    "                                                             ]['prob'].values[0]\n",
    "        \n",
    "        seq_prob_features[0, feature_index] = prob\n",
    "    \n",
    "    prob_features = np.concatenate((prob_features, seq_prob_features))"
   ]
  },
  {
   "cell_type": "code",
   "execution_count": 65,
   "metadata": {},
   "outputs": [
    {
     "data": {
      "text/plain": [
       "array([ 0.00238095, -0.03769559, -0.06839623,  0.00361601, -0.03304348,\n",
       "        0.025     ,  0.05767077, -0.01585082,  0.01832707, -0.10678325,\n",
       "        0.07848673, -0.02621475,  0.04424277,  0.17647059,  0.01818182,\n",
       "        0.02498298,  0.09863182,  0.02534113,  0.06492637,  0.00923594,\n",
       "       -0.00419815, -0.05789474, -0.01072125, -0.02609971,  0.10901001,\n",
       "       -0.06070334,  0.01607143,  0.0008547 , -0.01428571,  0.00080808,\n",
       "        0.11644355,  0.04898447,  0.05445344,  0.06372549,  0.02272727,\n",
       "        0.03225806,  0.02731183, -0.0582716 ,  0.02881563,  0.12727273])"
      ]
     },
     "execution_count": 65,
     "metadata": {},
     "output_type": "execute_result"
    }
   ],
   "source": [
    "prob_features[0]"
   ]
  },
  {
   "cell_type": "code",
   "execution_count": 67,
   "metadata": {},
   "outputs": [],
   "source": [
    "np.savetxt(\"foo.csv\", prob_features, delimiter=\",\")"
   ]
  },
  {
   "cell_type": "code",
   "execution_count": null,
   "metadata": {},
   "outputs": [],
   "source": []
  },
  {
   "cell_type": "code",
   "execution_count": 51,
   "metadata": {},
   "outputs": [
    {
     "data": {
      "text/plain": [
       "('Y', 'Y', 40, 39)"
      ]
     },
     "execution_count": 51,
     "metadata": {},
     "output_type": "execute_result"
    }
   ],
   "source": [
    "charA, charB, posA, posB"
   ]
  },
  {
   "cell_type": "code",
   "execution_count": 60,
   "metadata": {},
   "outputs": [
    {
     "data": {
      "text/plain": [
       "0.01317829457364341"
      ]
     },
     "execution_count": 60,
     "metadata": {},
     "output_type": "execute_result"
    }
   ],
   "source": [
    "df_position_specific_conditional_probabilities[(df_position_specific_conditional_probabilities['A'] == charA) & \n",
    "                                                              (df_position_specific_conditional_probabilities['B'] == charB) & \n",
    "                                                              (df_position_specific_conditional_probabilities['pos'] == (posA, \n",
    "                                                                                                                         posB))\n",
    "                                                             ]['prob'].values[0]"
   ]
  },
  {
   "cell_type": "code",
   "execution_count": null,
   "metadata": {},
   "outputs": [],
   "source": []
  },
  {
   "cell_type": "code",
   "execution_count": 33,
   "metadata": {},
   "outputs": [
    {
     "data": {
      "text/plain": [
       "(2382, 40)"
      ]
     },
     "execution_count": 33,
     "metadata": {},
     "output_type": "execute_result"
    }
   ],
   "source": [
    "features.shape"
   ]
  },
  {
   "cell_type": "code",
   "execution_count": 34,
   "metadata": {},
   "outputs": [
    {
     "data": {
      "text/plain": [
       "41"
      ]
     },
     "execution_count": 34,
     "metadata": {},
     "output_type": "execute_result"
    }
   ],
   "source": [
    "len(seq)"
   ]
  },
  {
   "cell_type": "code",
   "execution_count": 45,
   "metadata": {},
   "outputs": [],
   "source": [
    "a = np.empty((0,4))\n",
    "b = np.ones((5,4))"
   ]
  },
  {
   "cell_type": "code",
   "execution_count": 46,
   "metadata": {},
   "outputs": [
    {
     "data": {
      "text/plain": [
       "(0, 4)"
      ]
     },
     "execution_count": 46,
     "metadata": {},
     "output_type": "execute_result"
    }
   ],
   "source": [
    "a.shape"
   ]
  },
  {
   "cell_type": "code",
   "execution_count": 47,
   "metadata": {},
   "outputs": [
    {
     "data": {
      "text/plain": [
       "(5, 4)"
      ]
     },
     "execution_count": 47,
     "metadata": {},
     "output_type": "execute_result"
    }
   ],
   "source": [
    "b.shape"
   ]
  },
  {
   "cell_type": "code",
   "execution_count": 49,
   "metadata": {},
   "outputs": [
    {
     "data": {
      "text/plain": [
       "(5, 4)"
      ]
     },
     "execution_count": 49,
     "metadata": {},
     "output_type": "execute_result"
    }
   ],
   "source": [
    "np.concatenate((a,b)).shape"
   ]
  },
  {
   "cell_type": "code",
   "execution_count": 27,
   "metadata": {},
   "outputs": [
    {
     "data": {
      "text/plain": [
       "55"
      ]
     },
     "execution_count": 27,
     "metadata": {},
     "output_type": "execute_result"
    }
   ],
   "source": [
    "charB_indexes_in_posB.shape[0]"
   ]
  },
  {
   "cell_type": "code",
   "execution_count": null,
   "metadata": {},
   "outputs": [],
   "source": []
  },
  {
   "cell_type": "code",
   "execution_count": 23,
   "metadata": {},
   "outputs": [
    {
     "data": {
      "text/plain": [
       "array(['E', 'A', 'V', ..., 'S', 'D', 'S'], dtype='<U1')"
      ]
     },
     "execution_count": 23,
     "metadata": {},
     "output_type": "execute_result"
    }
   ],
   "source": [
    "pos_d_charA"
   ]
  },
  {
   "cell_type": "code",
   "execution_count": 15,
   "metadata": {},
   "outputs": [
    {
     "data": {
      "text/plain": [
       "array(['V', 'A', 'A', ..., 'E', 'C', 'V'], dtype='<U1')"
      ]
     },
     "execution_count": 15,
     "metadata": {},
     "output_type": "execute_result"
    }
   ],
   "source": [
    "pos_d_charB"
   ]
  },
  {
   "cell_type": "code",
   "execution_count": 20,
   "metadata": {},
   "outputs": [
    {
     "data": {
      "text/plain": [
       "array([  18,   21,   48,   88,   97,  122,  128,  129,  130,  136,  160,\n",
       "        172,  176,  207,  222,  250,  353,  367,  377,  417,  436,  454,\n",
       "        487,  492,  525,  540,  557,  562,  565,  580,  617,  636,  654,\n",
       "        670,  671,  695,  789,  791,  818,  835,  888,  906,  917,  951,\n",
       "        976,  985, 1010, 1022, 1057, 1064, 1069, 1104, 1126, 1155, 1162],\n",
       "      dtype=int64)"
      ]
     },
     "execution_count": 20,
     "metadata": {},
     "output_type": "execute_result"
    }
   ],
   "source": [
    "charB_indexes_in_posB"
   ]
  },
  {
   "cell_type": "code",
   "execution_count": 22,
   "metadata": {},
   "outputs": [
    {
     "data": {
      "text/plain": [
       "(array([ 0,  1,  2,  3,  4,  5,  6,  7,  8,  9, 10, 11, 12, 13, 14, 15, 16,\n",
       "        17, 18, 19, 20, 21, 22, 23, 24, 25, 26, 27, 28, 29, 30, 31, 32, 33,\n",
       "        34, 35, 36, 37, 38, 39, 40, 41, 42, 43, 44, 45, 46, 47, 48, 49, 50,\n",
       "        51, 52, 53, 54], dtype=int64),)"
      ]
     },
     "execution_count": 22,
     "metadata": {},
     "output_type": "execute_result"
    }
   ],
   "source": [
    "np.where(pos_d_charA[charB_indexes_in_posB] == charA)"
   ]
  },
  {
   "cell_type": "code",
   "execution_count": null,
   "metadata": {},
   "outputs": [],
   "source": []
  },
  {
   "cell_type": "code",
   "execution_count": null,
   "metadata": {},
   "outputs": [],
   "source": []
  },
  {
   "cell_type": "code",
   "execution_count": null,
   "metadata": {},
   "outputs": [],
   "source": []
  },
  {
   "cell_type": "code",
   "execution_count": null,
   "metadata": {},
   "outputs": [],
   "source": []
  },
  {
   "cell_type": "code",
   "execution_count": null,
   "metadata": {},
   "outputs": [],
   "source": []
  },
  {
   "cell_type": "code",
   "execution_count": null,
   "metadata": {},
   "outputs": [],
   "source": [
    "pos_train_data = np.array([list(val) for val in list(train_data['Sequence'][train_data['label_original'] == 1])])\n",
    "neg_train_data = np.array([list(val) for val in list(train_data['Sequence'][train_data['label_original'] != 1])])"
   ]
  },
  {
   "cell_type": "code",
   "execution_count": null,
   "metadata": {},
   "outputs": [],
   "source": [
    "pos_train_data"
   ]
  },
  {
   "cell_type": "code",
   "execution_count": 16,
   "metadata": {},
   "outputs": [
    {
     "data": {
      "text/plain": [
       "array([['E', 'V'],\n",
       "       ['A', 'A'],\n",
       "       ['V', 'A'],\n",
       "       ...,\n",
       "       ['S', 'E'],\n",
       "       ['D', 'C'],\n",
       "       ['S', 'V']], dtype='<U1')"
      ]
     },
     "execution_count": 16,
     "metadata": {},
     "output_type": "execute_result"
    }
   ],
   "source": [
    "pos_train_data[:, 0:2]"
   ]
  },
  {
   "cell_type": "code",
   "execution_count": null,
   "metadata": {},
   "outputs": [],
   "source": []
  },
  {
   "cell_type": "code",
   "execution_count": null,
   "metadata": {},
   "outputs": [],
   "source": []
  },
  {
   "cell_type": "code",
   "execution_count": null,
   "metadata": {},
   "outputs": [],
   "source": []
  },
  {
   "cell_type": "code",
   "execution_count": null,
   "metadata": {},
   "outputs": [],
   "source": []
  },
  {
   "cell_type": "markdown",
   "metadata": {},
   "source": [
    "# Read PredNTS Independent data"
   ]
  },
  {
   "cell_type": "code",
   "execution_count": null,
   "metadata": {},
   "outputs": [],
   "source": [
    "##################################################################################\n",
    "##### read independent data file\n",
    "##################################################################################\n",
    "indpe_file_path = os.path.join(input_data_folder, independent_data_file)\n",
    "indpe_data = pd.read_csv(indpe_file_path, sep='\\t', header=None)\n",
    "indpe_data.columns = ['Sequence', 'name', 'id', 'flag', 'label_original', 'type']\n",
    "indpe_data.head()\n",
    "    \n",
    "##################################################################################\n",
    "##### Create OHE of sequence\n",
    "##################################################################################\n",
    "indpe_data['OHE_Sequence'] = pd.Series([one_hot_encode_nt(val, all_char_dict) \n",
    "                                        for val in indpe_data[\"Sequence\"]])\n",
    "\n",
    "##################################################################################\n",
    "##### Fix the labels\n",
    "##################################################################################\n",
    "indpe_data['label'] = pd.Series([1 if val == 1 else 0 \n",
    "                                 for val in indpe_data[\"label_original\"]])\n",
    "\n",
    "##################################################################################\n",
    "##### Extract features and labels, create folds\n",
    "##################################################################################\n",
    "\n",
    "indpe_features = np.array(list(indpe_data['OHE_Sequence']))\n",
    "indpe_labels = np.array(list(indpe_data['label']))\n",
    "indpe_labels = indpe_labels.reshape((indpe_labels.shape[0], 1))\n",
    "\n",
    "input_seq_shape = indpe_features[0].shape"
   ]
  },
  {
   "cell_type": "code",
   "execution_count": null,
   "metadata": {},
   "outputs": [],
   "source": []
  },
  {
   "cell_type": "code",
   "execution_count": null,
   "metadata": {},
   "outputs": [],
   "source": []
  },
  {
   "cell_type": "code",
   "execution_count": null,
   "metadata": {},
   "outputs": [],
   "source": []
  },
  {
   "cell_type": "code",
   "execution_count": null,
   "metadata": {},
   "outputs": [],
   "source": []
  }
 ],
 "metadata": {
  "kernelspec": {
   "display_name": "Python 3 (ipykernel)",
   "language": "python",
   "name": "python3"
  },
  "language_info": {
   "codemirror_mode": {
    "name": "ipython",
    "version": 3
   },
   "file_extension": ".py",
   "mimetype": "text/x-python",
   "name": "python",
   "nbconvert_exporter": "python",
   "pygments_lexer": "ipython3",
   "version": "3.10.0"
  }
 },
 "nbformat": 4,
 "nbformat_minor": 2
}
