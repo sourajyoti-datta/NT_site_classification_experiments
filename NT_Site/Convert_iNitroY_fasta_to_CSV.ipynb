{
 "cells": [
  {
   "cell_type": "code",
   "execution_count": 1,
   "id": "231dbb0c",
   "metadata": {},
   "outputs": [],
   "source": [
    "import os \n",
    "import pickle\n",
    "import numpy as np\n",
    "import pandas as pd\n",
    "\n",
    "from Bio import SeqIO"
   ]
  },
  {
   "cell_type": "code",
   "execution_count": 2,
   "id": "55d5d93c",
   "metadata": {},
   "outputs": [],
   "source": [
    "# PredNTS\n",
    "\n",
    "input_data_folder = os.path.join(\"Data\", \"iNitroY-Deep-Dataset\")\n",
    "neg_data_file = \"cdhit70-nitrotyr-neg.fasta\"\n",
    "pos_data_file = \"raw-nitrotyrosine-pos.fasta\"\n",
    "\n",
    "output_data_folder = \"iNitroY_ensemble_data\"\n",
    "output_file = \"iNitroY_full_SEQ.csv\""
   ]
  },
  {
   "cell_type": "code",
   "execution_count": 3,
   "id": "21f062a8",
   "metadata": {},
   "outputs": [],
   "source": [
    "def read_fasta_file(file_path):\n",
    "    \n",
    "    openFile = open(file_path)\n",
    "    fastaSequences = SeqIO.parse(openFile, \"fasta\")\n",
    "\n",
    "    name_list = []\n",
    "    seq_list = []\n",
    "\n",
    "    for fasta in fastaSequences: \n",
    "        name_list.append(fasta.id)\n",
    "        seq_list.append(str(fasta.seq))\n",
    "\n",
    "    openFile.close()\n",
    "    \n",
    "    return name_list, seq_list"
   ]
  },
  {
   "cell_type": "code",
   "execution_count": 4,
   "id": "cc617e0d",
   "metadata": {},
   "outputs": [],
   "source": [
    "##################################################################################\n",
    "##### read positive and negative files\n",
    "##################################################################################\n",
    "\n",
    "pos_file_path = os.path.join(input_data_folder, pos_data_file)\n",
    "_, pos_seq_list = read_fasta_file(pos_file_path)\n",
    "\n",
    "neg_file_path = os.path.join(input_data_folder, neg_data_file)\n",
    "_, neg_seq_list = read_fasta_file(neg_file_path)\n",
    "\n",
    "pos_seq_list = [val.replace('X', '-') for val in pos_seq_list]\n",
    "neg_seq_list = [val.replace('X', '-') for val in neg_seq_list]\n",
    "\n",
    "# remove duplicates in data\n",
    "# pos_seq_list = list(set(pos_seq_list))\n",
    "# neg_seq_list = list(set(neg_seq_list))\n",
    "\n",
    "all_seq_list = pos_seq_list + neg_seq_list\n",
    "\n",
    "all_seq_label_list = ([1] * len(pos_seq_list)) + ([0] * len(neg_seq_list))"
   ]
  },
  {
   "cell_type": "code",
   "execution_count": 5,
   "id": "0224a36a",
   "metadata": {},
   "outputs": [
    {
     "data": {
      "text/plain": [
       "(834, 834)"
      ]
     },
     "execution_count": 5,
     "metadata": {},
     "output_type": "execute_result"
    }
   ],
   "source": [
    "len(all_seq_list), len(all_seq_label_list)"
   ]
  },
  {
   "cell_type": "code",
   "execution_count": 6,
   "id": "98a36ce6",
   "metadata": {},
   "outputs": [],
   "source": [
    "initro_df = pd.DataFrame(list(zip(all_seq_label_list, all_seq_list)),\n",
    "                         columns =['Label', 'Sequence'])"
   ]
  },
  {
   "cell_type": "code",
   "execution_count": 7,
   "id": "13cf5609",
   "metadata": {},
   "outputs": [],
   "source": [
    "outpath = os.path.join(output_data_folder, output_file)\n",
    "\n",
    "initro_df.to_csv(path_or_buf=outpath, sep=',', header=False, index=False)"
   ]
  },
  {
   "cell_type": "code",
   "execution_count": null,
   "id": "b1599693",
   "metadata": {},
   "outputs": [],
   "source": []
  }
 ],
 "metadata": {
  "kernelspec": {
   "display_name": "Python 3 (ipykernel)",
   "language": "python",
   "name": "python3"
  },
  "language_info": {
   "codemirror_mode": {
    "name": "ipython",
    "version": 3
   },
   "file_extension": ".py",
   "mimetype": "text/x-python",
   "name": "python",
   "nbconvert_exporter": "python",
   "pygments_lexer": "ipython3",
   "version": "3.10.0"
  }
 },
 "nbformat": 4,
 "nbformat_minor": 5
}
