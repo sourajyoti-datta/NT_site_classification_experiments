{
 "cells": [
  {
   "cell_type": "code",
   "execution_count": 1,
   "metadata": {},
   "outputs": [],
   "source": [
    "import os\n",
    "import pandas as pd"
   ]
  },
  {
   "cell_type": "code",
   "execution_count": 2,
   "metadata": {},
   "outputs": [],
   "source": [
    "input_csv_data_folder = \"PredNTS_Data\"\n",
    "output_fasta_data_folder = \"PredNTS_Data_fasta\"\n",
    "output_data_folder = \"PredNTS_Data_mathfeature\""
   ]
  },
  {
   "cell_type": "code",
   "execution_count": 3,
   "metadata": {},
   "outputs": [],
   "source": [
    "def convert_csv_to_fasta(input_file_path, output_file_path):\n",
    "    \n",
    "    csv_data = pd.read_csv(input_file_path, sep='\\t', header=None)\n",
    "    csv_data.columns = ['Sequence', 'name', 'id', 'flag', 'label_original', 'type']\n",
    "    \n",
    "    list_header = [val1+\"_\"+str(val2)+\"_\"+str(val3) \n",
    "                   for val1,val2,val3 in zip(list(csv_data['name']), \n",
    "                                        [1 if val==1 else 0 for val in csv_data['label_original']], \n",
    "                                        range(csv_data['name'].shape[0]))\n",
    "                  ]\n",
    "    list_seqs = [val.replace(\"-\",\"\") for val in csv_data['Sequence']]\n",
    "    \n",
    "    with open(output_file_path, \"w\") as out_file_obj:\n",
    "        for header, seq in zip(list_header, list_seqs):\n",
    "            #Output the header\n",
    "            out_file_obj.write(\">\" + header + \"\\n\")\n",
    "            #Output the sequence\n",
    "            out_file_obj.write(seq + \"\\n\")"
   ]
  },
  {
   "cell_type": "code",
   "execution_count": 4,
   "metadata": {},
   "outputs": [],
   "source": [
    "##################################################################################\n",
    "##### Convert the CSV to Fasta\n",
    "##################################################################################\n",
    "\n",
    "if(not os.path.isdir(output_fasta_data_folder)):\n",
    "    os.makedirs(output_fasta_data_folder)\n",
    "\n",
    "for root, dirs, files in os.walk(input_csv_data_folder):\n",
    "    for file in files:\n",
    "        input_file_path = os.path.join(root, file)\n",
    "        out_fasta_file_name = \".\".join([file.split(\".\")[0], \"fasta\"])\n",
    "        output_file_path = os.path.join(output_fasta_data_folder, out_fasta_file_name)\n",
    "        convert_csv_to_fasta(input_file_path, output_file_path)"
   ]
  },
  {
   "cell_type": "code",
   "execution_count": null,
   "metadata": {},
   "outputs": [],
   "source": []
  }
 ],
 "metadata": {
  "kernelspec": {
   "display_name": "Python 3 (ipykernel)",
   "language": "python",
   "name": "python3"
  },
  "language_info": {
   "codemirror_mode": {
    "name": "ipython",
    "version": 3
   },
   "file_extension": ".py",
   "mimetype": "text/x-python",
   "name": "python",
   "nbconvert_exporter": "python",
   "pygments_lexer": "ipython3",
   "version": "3.10.0"
  }
 },
 "nbformat": 4,
 "nbformat_minor": 2
}
